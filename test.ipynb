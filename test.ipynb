{
 "cells": [
  {
   "cell_type": "code",
   "execution_count": 1,
   "metadata": {},
   "outputs": [],
   "source": [
    "from pathlib import Path\n",
    "from data_processing.get_data import get_benchmark_dfs\n",
    "import polars as pl"
   ]
  },
  {
   "cell_type": "code",
   "execution_count": null,
   "metadata": {},
   "outputs": [
    {
     "name": "stdout",
     "output_type": "stream",
     "text": [
      "##########  Loading data  ##########\n",
      "\n",
      "        Cutoff Values for 99.0th Percentiles:\n",
      "        -----------------------------------\n",
      "        Total items bought:    152 items\n",
      "\n",
      "        -----------------------------------\n",
      "        Removed Customers:     11,908\n",
      "        \n"
     ]
    }
   ],
   "source": [
    "config = {\n",
    "    \"train_begin\": \"2018-09-20\",\n",
    "    \"train_label_begin\": \"2019-09-20\",\n",
    "    \"train_end\": \"2020-03-17\",\n",
    "    \"test_begin\": \"2019-03-19\",\n",
    "    \"test_label_begin\": \"2020-03-18\",\n",
    "    \"test_end\": \"2020-09-13\",\n",
    "    \"min_zip_code_count\": 3,\n",
    "    \"date_aggregation\": \"daily\",\n",
    "    \"group_by_channel_id\": False,\n",
    "    \"log_clv\": False,\n",
    "    \"clv_periods\": [6],\n",
    "    \"subset\": None,\n",
    "    \"train_subsample_percentage\": None,\n",
    "    \"max_length\":20, # DEFINE HOW MANY ITEMS ARE TO BE CONSIDERED IN TRANSFORMER SEQUENCE\n",
    "}\n",
    "data_path = Path(\"data\")\n",
    "\n",
    "print(10 * \"#\", \" Loading data \", 10 * \"#\")\n",
    "train_df, val_df, test_df = get_benchmark_dfs(data_path, config)"
   ]
  }
 ],
 "metadata": {
  "kernelspec": {
   "display_name": "benchmarks",
   "language": "python",
   "name": "python3"
  },
  "language_info": {
   "codemirror_mode": {
    "name": "ipython",
    "version": 3
   },
   "file_extension": ".py",
   "mimetype": "text/x-python",
   "name": "python",
   "nbconvert_exporter": "python",
   "pygments_lexer": "ipython3",
   "version": "3.11.10"
  }
 },
 "nbformat": 4,
 "nbformat_minor": 2
}
